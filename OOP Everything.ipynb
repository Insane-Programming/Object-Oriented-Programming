{
 "cells": [
  {
   "cell_type": "code",
   "execution_count": 1,
   "metadata": {},
   "outputs": [],
   "source": [
    "# What is Object Oriented Programming?\n",
    "\n",
    "# Object-oriented programming is a programming paradigm that provides a means of structuring programs so that \n",
    "# properties and behaviors are bundled into individual objects.\n",
    "\n",
    "# What is a Class?\n",
    "\n",
    "# A class is a collection of instance variables and related methods that define a particular object type. \n",
    "# Class name contains no parantheses or any kind of argument"
   ]
  },
  {
   "cell_type": "code",
   "execution_count": 2,
   "metadata": {},
   "outputs": [],
   "source": [
    "# Note 1 - Unlike other programming languages, file name need not to match the class name\n",
    "# Note 2 - In Python, built-in classes are named in lower case, but user-defined classes are named in Camel or \n",
    "#          Snake case, with the first letter capitalized.\n",
    "\n",
    "# CREATING A CLASS\n",
    "\n",
    "class Book: pass \n",
    "\n",
    "# pass is often used as a placeholder indicating where code will eventually go. It allows you to run this code without Python throwing an error."
   ]
  },
  {
   "cell_type": "code",
   "execution_count": 3,
   "metadata": {},
   "outputs": [],
   "source": [
    "# __init__ Method\n",
    "\n",
    "# The __init__ special method, also known as a Constructor, is used to initialize the Book class with attributes \n",
    "# such as title, quantity, author, and price.\n",
    "\n",
    "# Arguments of the init method should be the basic requirement of the class\n",
    "# init runs automatically whenever an instance of class is created\n",
    "\n",
    "# You can give .__init__() any number of parameters, but the first parameter will always be a variable called self. \n",
    "# When a new class instance is created, the instance is automatically passed to the self parameter in .__init__() \n",
    "# so that new attributes can be defined on the object.\n",
    "\n",
    "class Book:\n",
    "\n",
    "    def __init__(self, title, quantity, author, price):\n",
    "\n",
    "        self.title = title\n",
    "        self.quantity = quantity\n",
    "        self.author = author\n",
    "        self.price = price\n",
    "\n",
    "    # These above declarations helps to access these variables not in just init function but in the whole calss\n",
    "\n"
   ]
  },
  {
   "cell_type": "code",
   "execution_count": 4,
   "metadata": {},
   "outputs": [],
   "source": [
    "# Defining the datatypes of the arguments\n",
    "\n",
    "# In a function you can define the datatype of argument by arg : datatype \n",
    "# Note 3 - All the dafault arguments must be after non-default arguments in a funtion\n",
    "\n",
    "class Book:\n",
    "    \n",
    "    def __init__(self, title:str, quantity:int, author:str, price:float): pass"
   ]
  },
  {
   "cell_type": "code",
   "execution_count": 1,
   "metadata": {},
   "outputs": [],
   "source": [
    "# Usually the first thing we do when __init__ method is called is running validations, means \n",
    "# whether the arguments fullfill the required condition \n",
    "\n",
    "# Validations are run using assert - if False show error, opposite of if statement\n",
    "\n",
    "class Book:\n",
    "\n",
    "    def __init__(self, title:str, quantity:int, author:str, price:float):\n",
    "        \n",
    "        # RUNNING VALIDATIONS\n",
    "\n",
    "        assert price >= 0, f'Price cannot be {price}'\n",
    "        assert quantity >= 0, f'Quantity cannot be {quantity}' \n",
    "        assert len(author) >= 5, f'Please give full name of author {author}' \n",
    "\n",
    "        # ----------------------------------------------------------------------\n",
    "\n",
    "        self.title = title\n",
    "        self.quantity = quantity\n",
    "        self.author = author\n",
    "        self.price = price"
   ]
  },
  {
   "cell_type": "code",
   "execution_count": 2,
   "metadata": {},
   "outputs": [],
   "source": [
    "# CREATING INSTANCES OF CLASS\n",
    "\n",
    "book1 = Book('Book 1', 12, 'Author 1', 120)\n",
    "book2 = Book('Book 2', 18, 'Author 2', 220)\n",
    "book3 = Book('Book 3', 28, 'Author 3', 320)"
   ]
  },
  {
   "cell_type": "code",
   "execution_count": 3,
   "metadata": {},
   "outputs": [
    {
     "name": "stdout",
     "output_type": "stream",
     "text": [
      "<__main__.Book object at 0x000001C15B6A4DC0>\n",
      "<__main__.Book object at 0x000001C15B6A4D60>\n",
      "<__main__.Book object at 0x000001C15B6A6C20>\n"
     ]
    }
   ],
   "source": [
    "# Printing instances\n",
    "\n",
    "print(book1)\n",
    "print(book2)\n",
    "print(book3)\n"
   ]
  },
  {
   "cell_type": "code",
   "execution_count": 4,
   "metadata": {},
   "outputs": [
    {
     "name": "stdout",
     "output_type": "stream",
     "text": [
      "Book: Book 1, Quantity: 12, Author: Author 1, Price: 120\n",
      "Book: Book 2, Quantity: 18, Author: Author 2, Price: 220\n",
      "Book: Book 3, Quantity: 28, Author: Author 3, Price: 320\n"
     ]
    }
   ],
   "source": [
    "# The class and memory location of the objects are printed when they are printed. \n",
    "# We can't expect them to provide specific information on the qualities, such as the title, author name, and so on. \n",
    "# But we can use a specific method called __repr__ to do this.\n",
    "\n",
    "# print(Item.all) # This will return the object address of instances which is not so helpful, \n",
    "# so we can use magic method called repr stands for represtation of objects\n",
    "\n",
    "class Book:\n",
    "\n",
    "    def __init__(self, title:str, quantity:int, author:str, price:float):\n",
    "        \n",
    "        # RUNNING VALIDATIONS\n",
    "\n",
    "        assert price >= 0, f'Price cannot be {price}'\n",
    "        assert quantity >= 0, f'Quantity cannot be {quantity}' \n",
    "        assert len(author) >= 5, f'Please give full name of author {author}' \n",
    "\n",
    "        # ----------------------------------------------------------------------\n",
    "\n",
    "        self.title = title\n",
    "        self.quantity = quantity\n",
    "        self.author = author\n",
    "        self.price = price\n",
    "\n",
    "    def __repr__(self):\n",
    "        return f\"Book: {self.title}, Quantity: {self.quantity}, Author: {self.author}, Price: {self.price}\"\n",
    "\n",
    "book1 = Book('Book 1', 12, 'Author 1', 120)\n",
    "book2 = Book('Book 2', 18, 'Author 2', 220)\n",
    "book3 = Book('Book 3', 28, 'Author 3', 320)\n",
    "\n",
    "print(book1)\n",
    "print(book2)\n",
    "print(book3)"
   ]
  },
  {
   "cell_type": "code",
   "execution_count": 6,
   "metadata": {},
   "outputs": [
    {
     "name": "stdout",
     "output_type": "stream",
     "text": [
      "Instace Details: Book: Book 1, Quantity: 12, Author: Author 1, Price: 120\n",
      "Instace Details: Book: Book 2, Quantity: 18, Author: Author 2, Price: 220\n",
      "Instace Details: Book: Book 3, Quantity: 28, Author: Author 3, Price: 320\n"
     ]
    }
   ],
   "source": [
    "# Storing the instance details into list\n",
    "\n",
    "# variables that are declared outside of any kind of function but in the class are global, \n",
    "# they can even be used outside the class by ClassName.variableName\n",
    "\n",
    "class Book:\n",
    "\n",
    "    # DECLARING THE CLASS ATTRIBUTES\n",
    "    all = []\n",
    "\n",
    "    def __init__(self, title:str, quantity:int, author:str, price:float):\n",
    "        \n",
    "        # RUNNING VALIDATIONS\n",
    "\n",
    "        assert price >= 0, f'Price cannot be {price}'\n",
    "        assert quantity >= 0, f'Quantity cannot be {quantity}' \n",
    "        assert len(author) >= 5, f'Please give full name of author {author}' \n",
    "\n",
    "        # ----------------------------------------------------------------------\n",
    "\n",
    "        self.title = title\n",
    "        self.quantity = quantity\n",
    "        self.author = author\n",
    "        self.price = price\n",
    "\n",
    "        # SAVING INSTANCE DETAILS\n",
    "\n",
    "        Book.all.append(self)\n",
    "        \n",
    "\n",
    "    def __repr__(self):\n",
    "        return f\"Book: {self.title}, Quantity: {self.quantity}, Author: {self.author}, Price: {self.price}\"\n",
    "\n",
    "book1 = Book('Book 1', 12, 'Author 1', 120)\n",
    "book2 = Book('Book 2', 18, 'Author 2', 220)\n",
    "book3 = Book('Book 3', 28, 'Author 3', 320)\n",
    "\n",
    "for i in Book.all:\n",
    "    print(f'Instace Details: {i}')"
   ]
  },
  {
   "cell_type": "code",
   "execution_count": 7,
   "metadata": {},
   "outputs": [],
   "source": [
    "# What is Encapsulation?\n",
    "\n",
    "# Encapsulation is the process of preventing clients from accessing certain properties, which can only be accessed through specific methods.\n",
    "# Private attributes are inaccessible attributes, and information hiding is the process of making particular attributes private. \n",
    "# You use two underscores to declare private characteristics."
   ]
  },
  {
   "cell_type": "code",
   "execution_count": 8,
   "metadata": {},
   "outputs": [
    {
     "name": "stdout",
     "output_type": "stream",
     "text": [
      "Book 1\n",
      "12\n",
      "Author 1\n",
      "120\n"
     ]
    },
    {
     "ename": "AttributeError",
     "evalue": "'Book' object has no attribute '__discount'",
     "output_type": "error",
     "traceback": [
      "\u001b[1;31m---------------------------------------------------------------------------\u001b[0m",
      "\u001b[1;31mAttributeError\u001b[0m                            Traceback (most recent call last)",
      "Cell \u001b[1;32mIn [8], line 21\u001b[0m\n\u001b[0;32m     19\u001b[0m \u001b[39mprint\u001b[39m(book1\u001b[39m.\u001b[39mauthor)\n\u001b[0;32m     20\u001b[0m \u001b[39mprint\u001b[39m(book1\u001b[39m.\u001b[39mprice)\n\u001b[1;32m---> 21\u001b[0m \u001b[39mprint\u001b[39m(book1\u001b[39m.\u001b[39m__discount)\n",
      "\u001b[1;31mAttributeError\u001b[0m: 'Book' object has no attribute '__discount'"
     ]
    }
   ],
   "source": [
    "# Let's introduce a private attribute called __discount in the Book class.\n",
    "# We can see that all the attributes are printed except the private attribute __discount. \n",
    "\n",
    "class Book:\n",
    "    def __init__(self, title, quantity, author, price):\n",
    "        self.title = title\n",
    "        self.quantity = quantity\n",
    "        self.author = author\n",
    "        self.price = price\n",
    "        self.__discount = 0.10\n",
    "\n",
    "    def __repr__(self):\n",
    "        return f\"Book: {self.title}, Quantity: {self.quantity}, Author: {self.author}, Price: {self.price}\"\n",
    "\n",
    "\n",
    "book1 = Book('Book 1', 12, 'Author 1', 120)\n",
    "\n",
    "print(book1.title)\n",
    "print(book1.quantity)\n",
    "print(book1.author)\n",
    "print(book1.price)\n",
    "print(book1.__discount)"
   ]
  },
  {
   "cell_type": "code",
   "execution_count": 19,
   "metadata": {},
   "outputs": [
    {
     "name": "stdout",
     "output_type": "stream",
     "text": [
      "200\n",
      "160.0\n",
      "Book: Two States, Quantity: 1, Author: Chetan Bhagat, Price: 200\n",
      "Book: Two States, Quantity: 25, Author: Chetan Bhagat, Price: 160.0\n"
     ]
    }
   ],
   "source": [
    "class Book:\n",
    "\n",
    "    def __init__(self, title, quantity, author, price):\n",
    "        self.title = title\n",
    "        self.quantity = quantity\n",
    "        self.author = author\n",
    "        self.__price = price\n",
    "        self.__discount = None\n",
    "\n",
    "    def set_discount(self, discount):\n",
    "        self.__discount = discount\n",
    "\n",
    "    def get_price(self):\n",
    "        if self.__discount:\n",
    "            return self.__price * (1-self.__discount)\n",
    "        return self.__price\n",
    "\n",
    "    def __repr__(self):\n",
    "        return f\"Book: {self.title}, Quantity: {self.quantity}, Author: {self.author}, Price: {self.get_price()}\"\n",
    "\n",
    "# This time we'll create two objects, one for the purchase of single book and another for the purchase of books in bulk quantity. \n",
    "# While purchasing books in bulk quantity, we get a discount of 20%, so we'll use the set_discount() method to set the discount to 20% in that case.\n",
    "\n",
    "single_book = Book('Two States', 1, 'Chetan Bhagat', 200)\n",
    "\n",
    "bulk_books = Book('Two States', 25, 'Chetan Bhagat', 200)\n",
    "bulk_books.set_discount(0.20)\n",
    "\n",
    "print(single_book.get_price())\n",
    "print(bulk_books.get_price())\n",
    "print(single_book)\n",
    "print(bulk_books)"
   ]
  },
  {
   "cell_type": "code",
   "execution_count": 20,
   "metadata": {},
   "outputs": [],
   "source": [
    "# INSTANCE ATTRIBUTES VS CLASS ATTRIBUTES\n",
    "\n",
    "# Attributes created in .__init__() are called instance attributes. \n",
    "# An instance attribute’s value is specific to a particular instance of the class. \n",
    "# All Dog objects have a name and an age, but the values for the name and age attributes will vary depending on the Dog instance.\n",
    "\n",
    "# On the other hand, class attributes are attributes that have the same value for all class instances. \n",
    "# You can define a class attribute by assigning a value to a variable name outside of .__init__().\n",
    "\n",
    "# Class attributes are defined directly beneath the first line of the class name and are indented by four spaces. \n",
    "# They must always be assigned an initial value. \n",
    "# When an instance of the class is created, class attributes are automatically created and assigned to their initial values.\n"
   ]
  },
  {
   "cell_type": "code",
   "execution_count": null,
   "metadata": {},
   "outputs": [],
   "source": []
  }
 ],
 "metadata": {
  "kernelspec": {
   "display_name": "Python 3",
   "language": "python",
   "name": "python3"
  },
  "language_info": {
   "codemirror_mode": {
    "name": "ipython",
    "version": 3
   },
   "file_extension": ".py",
   "mimetype": "text/x-python",
   "name": "python",
   "nbconvert_exporter": "python",
   "pygments_lexer": "ipython3",
   "version": "3.10.9"
  },
  "orig_nbformat": 4,
  "vscode": {
   "interpreter": {
    "hash": "c65b3ab7a0be142e7661bb6ddace0db803d8862e49befeaa7a78e6bcedc57828"
   }
  }
 },
 "nbformat": 4,
 "nbformat_minor": 2
}
